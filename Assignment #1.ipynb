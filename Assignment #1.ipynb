{
 "cells": [
  {
   "cell_type": "markdown",
   "metadata": {},
   "source": [
    "Assignment #1\n",
    "Daniel Scanks\n",
    "V00788200"
   ]
  },
  {
   "cell_type": "markdown",
   "metadata": {},
   "source": [
    "Q1: Simulate aliasing of sinusoidal signals\n",
    "For this problem you will simulate the phenomena of aliasing. This will give you pracitice in making synthetic time series, subsetting data, and plotting your results.\n",
    "1 To start, make a time vector that goes from 0 to 120 s, with 10000 entries in it. Then make a synthetic time series that has two close in frequency sine waves:\n",
    "x=A1cos(ωt)+A2cos((ω1+δω)t)\n",
    "where ω is the \"carrier\" frequency, and δω<<ω is the difference in frequencies between the two waves. For simplicty, you could make A1=A2=1.[V]. Feel free to choose an interesting ω."
   ]
  },
  {
   "cell_type": "code",
   "execution_count": null,
   "metadata": {
    "collapsed": true
   },
   "outputs": [],
   "source": [
    "import numpy as np \n",
    "import matplotlib.pyplot as plt\n",
    "%matplotlib inline\n",
    "\n"
   ]
  }
 ],
 "metadata": {
  "kernelspec": {
   "display_name": "Python 2",
   "language": "python",
   "name": "python2"
  },
  "language_info": {
   "codemirror_mode": {
    "name": "ipython",
    "version": 2
   },
   "file_extension": ".py",
   "mimetype": "text/x-python",
   "name": "python",
   "nbconvert_exporter": "python",
   "pygments_lexer": "ipython2",
   "version": "2.7.10"
  }
 },
 "nbformat": 4,
 "nbformat_minor": 0
}
