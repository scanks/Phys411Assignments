{
 "cells": [
  {
   "cell_type": "markdown",
   "metadata": {},
   "source": [
    "Assignment 2\n",
    "Daniel Scanks\n",
    "V00788200\n",
    "\n",
    "Q1: Show that the correlation co-efficient is indeed related to the fraction of varaince explained by a linear dependence.\n",
    "1) To start, make a N(0,1) random variable x, with 200,000 entries. Then make a linearly dependent variable yi=axi+ni, where a is some amplitude, and ni is a random noise varaible. Assume that ni is distributed as N(0,n), where n is the noise level.\n",
    "Calculate the correlation co-efficient rxy between x and y for 40 different values of n, logarithmically spaced between 0.01 and 100. (hint use np.logspace).\n",
    "Plot rxy versus the inverse of the noise n normalized by the standard devaition of the signal axi: asxn You may want to use ax.loglog to visualize the orders of magnitude.\n",
    "Comment on the resulting comparison.\n",
    "\n"
   ]
  },
  {
   "cell_type": "code",
   "execution_count": 76,
   "metadata": {
    "collapsed": false
   },
   "outputs": [
    {
     "name": "stdout",
     "output_type": "stream",
     "text": [
      "[ 0.97009613  0.97004173  0.97028483  0.97019362  0.97005901  0.97026761\n",
      "  0.97000343  0.97036162  0.97017558  0.97005549  0.97000568  0.97015443\n",
      "  0.96986882  0.9700313   0.97030398  0.97025165  0.97011496  0.97011515\n",
      "  0.97024853  0.96998396  0.97030986  0.9701365   0.97029522  0.97021887\n",
      "  0.97024161  0.9700384   0.9699838   0.97023831  0.97022722  0.97031109\n",
      "  0.97016059  0.97002474  0.97009556  0.97009116  0.97011577  0.97017851\n",
      "  0.96992413  0.9702597   0.96988539  0.97035455]\n"
     ]
    }
   ],
   "source": [
    "import numpy as np\n",
    "import matplotlib.pyplot as plt\n",
    "%matplotlib inline\n",
    "\n",
    "r = np.zeros(40)\n",
    "n=0\n",
    "N=200000\n",
    "noisevalues = np.random.randn(40)\n",
    "\n",
    "for ind,n in enumerate(noisevalues): \n",
    "    x= np.random.randn(N);x=x-np.mean(x)                                  #random variable for x: N(0,1)   \n",
    "    n= np.random.randn(N)*0.5;y=y-np.mean(y)                              #random noise variable with max =0.5\n",
    "    y= 2*x + n                                             #linearly dependent function a=2 random noise variable max =2\n",
    "    r[ind]= np.sum(x*y)/np.std(x,ddof=1)/np.std(y,ddof=1)/(N-1)           # calculate r\n",
    "rxy = r\n",
    "print(rxy)\n",
    " "
   ]
  },
  {
   "cell_type": "markdown",
   "metadata": {
    "collapsed": true
   },
   "source": [
    "2) Repeat the above, but with a different value of a. Comment on how (and why) a changes the value of rxy."
   ]
  },
  {
   "cell_type": "code",
   "execution_count": null,
   "metadata": {
    "collapsed": true
   },
   "outputs": [],
   "source": [
    "import numpy as np\n",
    "import matplotlib.pyplot as plt\n",
    "%matplotlib inline\n",
    "\n"
   ]
  },
  {
   "cell_type": "markdown",
   "metadata": {},
   "source": [
    "\n",
    "Q2: Monte Carlo on slopes and test versus student-t distribution\n",
    "1) We stated without proof that the slope b of a linear fit of y to x is distributed as a student-t distribution with N−2 degrees of freedom, with a standard devaition given by the standard deviation of y around the fit model y~. Lets test that emperically using a Monte Carlo technique.\n",
    "First create an independet variable x from 10 points from an N(0,1) distribution.\n",
    "Next, using n=1.0, and a=1.0 create the dependent variables yi=axi+ni where ni are drawn from the N(0,n) distribution. Calculate the slope b.\n",
    "Do this 10000 times, and make a histogram of the resulting fits b. Also histogram sy|x as defined in the notes.\n",
    "Comment on the histigrams"
   ]
  },
  {
   "cell_type": "code",
   "execution_count": 85,
   "metadata": {
    "collapsed": false
   },
   "outputs": [
    {
     "name": "stdout",
     "output_type": "stream",
     "text": [
      "[ 0.30447916  0.38766814  0.23854213 ...,  0.28445973  0.37701153\n",
      "  0.36705492]\n"
     ]
    },
    {
     "data": {
      "text/plain": [
       "<matplotlib.text.Text at 0xc57b8d0>"
      ]
     },
     "execution_count": 85,
     "metadata": {},
     "output_type": "execute_result"
    },
    {
     "data": {
      "image/png": "[encoded data removed]",
      "text/plain": [
       "<matplotlib.figure.Figure at 0xc6dd9e8>"
      ]
     },
     "metadata": {},
     "output_type": "display_data"
    },
    {
     "data": {
      "image/png": "[encoded data removed]",
      "text/plain": [
       "<matplotlib.figure.Figure at 0xcb4e198>"
      ]
     },
     "metadata": {},
     "output_type": "display_data"
    }
   ],
   "source": [
    "import numpy as np\n",
    "import matplotlib.pyplot as plt\n",
    "%matplotlib inline\n",
    "\n",
    "N=10\n",
    "times=10000\n",
    "b= np.zeros(times)\n",
    "a= np.zeros(times)\n",
    "yhat= np.zeros(times)\n",
    "syx=np.zeros(times)\n",
    "\n",
    "for i in range(times):\n",
    "    x= np.random.randn(N);x=x-np.mean(x)\n",
    "    y= x + np.random.rand(N);y=y-np.mean(y)\n",
    "    b[i] = np.sum(x*y)-N*np.mean(x)*np.mean(y)\n",
    "    b[i] = b[i]/(np.sum(x**2)-N*np.mean(x)**2)            #\n",
    "    a[i] = np.mean(y)-b[i]*np.mean(x)\n",
    "    yhat=b[i]*x+a[i]\n",
    "    syx[i]=np.sqrt(np.sum((y-yhat)**2)/(N-2))\n",
    "slope = b\n",
    "stddev = syx\n",
    "print stddev\n",
    "\n",
    "\n",
    "\n",
    "\n",
    "fig,ax=plt.subplots(1,1)\n",
    "ax.hist(slope,100,normed=True);                        #b histogram\n",
    "ax.set_xlabel('slope b')\n",
    "ax.set_ylabel('PDF')\n",
    "\n",
    "fig,ax=plt.subplots(1,1)\n",
    "ax.hist(stddev,100,normed=True);                        #syx histogram\n",
    "ax.set_xlabel('sy/x')\n",
    "ax.set_ylabel('PDF')\n"
   ]
  },
  {
   "cell_type": "code",
   "execution_count": null,
   "metadata": {
    "collapsed": true
   },
   "outputs": [],
   "source": []
  }
 ],
 "metadata": {
  "kernelspec": {
   "display_name": "Python 2",
   "language": "python",
   "name": "python2"
  },
  "language_info": {
   "codemirror_mode": {
    "name": "ipython",
    "version": 2
   },
   "file_extension": ".py",
   "mimetype": "text/x-python",
   "name": "python",
   "nbconvert_exporter": "python",
   "pygments_lexer": "ipython2",
   "version": "2.7.10"
  }
 },
 "nbformat": 4,
 "nbformat_minor": 0
}
