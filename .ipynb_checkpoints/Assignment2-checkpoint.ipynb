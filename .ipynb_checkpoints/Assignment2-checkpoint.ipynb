{
 "cells": [
  {
   "cell_type": "markdown",
   "metadata": {},
   "source": [
    "Assignment 2\n",
    "Daniel Scanks\n",
    "V00788200\n",
    "\n",
    "Q1: Show that the correlation co-efficient is indeed related to the fraction of varaince explained by a linear dependence.\n",
    "1) To start, make a N(0,1) random variable x, with 200,000 entries. Then make a linearly dependent variable yi=axi+ni, where a is some amplitude, and ni is a random noise varaible. Assume that ni is distributed as N(0,n), where n is the noise level.\n",
    "Calculate the correlation co-efficient rxy between x and y for 40 different values of n, logarithmically spaced between 0.01 and 100. (hint use np.logspace).\n",
    "Plot rxy versus the inverse of the noise n normalized by the standard devaition of the signal axi: asxn You may want to use ax.loglog to visualize the orders of magnitude.\n",
    "Comment on the resulting comparison.\n",
    "\n"
   ]
  }
 ],
 "metadata": {
  "kernelspec": {
   "display_name": "Python 2",
   "language": "python",
   "name": "python2"
  },
  "language_info": {
   "codemirror_mode": {
    "name": "ipython",
    "version": 2
   },
   "file_extension": ".py",
   "mimetype": "text/x-python",
   "name": "python",
   "nbconvert_exporter": "python",
   "pygments_lexer": "ipython2",
   "version": "2.7.10"
  }
 },
 "nbformat": 4,
 "nbformat_minor": 0
}
